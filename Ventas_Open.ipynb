{
 "cells": [
  {
   "cell_type": "code",
   "execution_count": 1,
   "metadata": {},
   "outputs": [
    {
     "name": "stdout",
     "output_type": "stream",
     "text": [
      "Requirement already satisfied: selenium in d:\\python\\lib\\site-packages (3.141.0)\n",
      "Requirement already satisfied: urllib3 in d:\\python\\lib\\site-packages (from selenium) (1.25.8)\n",
      "Note: you may need to restart the kernel to use updated packages.\n"
     ]
    }
   ],
   "source": [
    "pip install selenium"
   ]
  },
  {
   "cell_type": "code",
   "execution_count": 2,
   "metadata": {},
   "outputs": [
    {
     "name": "stdout",
     "output_type": "stream",
     "text": [
      "Requirement already satisfied: webdriver_manager in d:\\python\\lib\\site-packages (3.2.2)\n",
      "Requirement already satisfied: crayons in d:\\python\\lib\\site-packages (from webdriver_manager) (0.4.0)\n",
      "Requirement already satisfied: requests in d:\\python\\lib\\site-packages (from webdriver_manager) (2.22.0)\n",
      "Requirement already satisfied: configparser in d:\\python\\lib\\site-packages (from webdriver_manager) (5.0.0)\n",
      "Requirement already satisfied: colorama in d:\\python\\lib\\site-packages (from crayons->webdriver_manager) (0.4.3)\n",
      "Requirement already satisfied: certifi>=2017.4.17 in d:\\python\\lib\\site-packages (from requests->webdriver_manager) (2019.11.28)\n",
      "Requirement already satisfied: urllib3!=1.25.0,!=1.25.1,<1.26,>=1.21.1 in d:\\python\\lib\\site-packages (from requests->webdriver_manager) (1.25.8)\n",
      "Requirement already satisfied: idna<2.9,>=2.5 in d:\\python\\lib\\site-packages (from requests->webdriver_manager) (2.8)\n",
      "Requirement already satisfied: chardet<3.1.0,>=3.0.2 in d:\\python\\lib\\site-packages (from requests->webdriver_manager) (3.0.4)\n",
      "Note: you may need to restart the kernel to use updated packages.\n"
     ]
    }
   ],
   "source": [
    "pip install webdriver_manager"
   ]
  },
  {
   "cell_type": "code",
   "execution_count": 3,
   "metadata": {},
   "outputs": [],
   "source": [
    "from selenium import webdriver\n",
    "from selenium.webdriver.common.keys import Keys\n",
    "from webdriver_manager.chrome import ChromeDriverManager\n",
    "\n",
    "import time\n",
    "\n",
    "#Selecciono la ruta donde guardar el archivo descargado de OBIEE\n",
    "a= 'D:\\PRUEBA2'\n",
    "\n",
    "chrome_options = webdriver.ChromeOptions()\n",
    "prefs = {'download.default_directory' : a }\n",
    "chrome_options.add_experimental_option('prefs', prefs)"
   ]
  },
  {
   "cell_type": "code",
   "execution_count": 4,
   "metadata": {},
   "outputs": [],
   "source": [
    "def waitUntilDownloadCompleted(maxTime=600):\n",
    "    driver.execute_script(\"window.open()\")\n",
    "    # switch to new tab\n",
    "    driver.switch_to.window(driver.window_handles[-1])\n",
    "    # navigate to chrome downloads\n",
    "    driver.get('chrome://downloads')\n",
    "    # define the endTime\n",
    "    endTime = time.time() + maxTime\n",
    "    while True:\n",
    "        try:\n",
    "            # get the download percentage\n",
    "            downloadPercentage = driver.execute_script(\n",
    "                \"return document.querySelector('downloads-manager').shadowRoot.querySelector('#downloadsList downloads-item').shadowRoot.querySelector('#progress').value\")\n",
    "            # check if downloadPercentage is 100 (otherwise the script will keep waiting)\n",
    "            if downloadPercentage == 100:\n",
    "                # exit the method once it's completed\n",
    "                #return downloadPercentage\n",
    "                #time.sleep(2)\n",
    "                #return downloadPercentage\n",
    "                driver.switch_to.window(driver.window_handles[0])\n",
    "                break\n",
    "        \n",
    "        except:\n",
    "            pass\n",
    "        # wait for 1 second before checking the percentage next time\n",
    "        time.sleep(1)\n",
    "        # exit method if the download not completed with in MaxTime.\n",
    "        if time.time() > endTime:\n",
    "            break"
   ]
  },
  {
   "cell_type": "code",
   "execution_count": 5,
   "metadata": {},
   "outputs": [
    {
     "name": "stderr",
     "output_type": "stream",
     "text": [
      "[WDM] - Current google-chrome version is 86.0.4240\n",
      "[WDM] - Get LATEST driver version for 86.0.4240\n",
      "[WDM] - Driver [C:\\Users\\Freyesc\\.wdm\\drivers\\chromedriver\\win32\\86.0.4240.22\\chromedriver.exe] found in cache\n"
     ]
    },
    {
     "name": "stdout",
     "output_type": "stream",
     "text": [
      " \n"
     ]
    }
   ],
   "source": [
    "#Proceso para ingresar a OBIEE y descargar archivo\n",
    "\n",
    "driver=webdriver.Chrome(ChromeDriverManager().install(),options=chrome_options)\n",
    "#driver=webdriver.Chrome('D:\\DatosdeUsuario\\Freyesc\\Downloads\\chromedriver\\chromedriver.exe',options=chrome_options)\n",
    "\n",
    "driver.get(\"https://bi.entel.pe/analytics/saw.dll?bieehome\")\n",
    "driver.find_element_by_id(\"sawlogonuser\").send_keys(\"FREYESC\")\n",
    "driver.find_element_by_id(\"sawlogonpwd\").send_keys(\"Entel2020ago\")\n",
    "driver.find_element_by_id(\"idlogon\").click()\n",
    "time.sleep(8)\n",
    "driver.find_element_by_id(\"idHeaerQuickSearchNameInput\").send_keys(\"VENTAS_OPEN\")\n",
    "driver.find_element_by_xpath('//*[@title=\"Buscar\"]').click()\n",
    "time.sleep(6)\n",
    "driver.find_element_by_link_text(\"Editar\").click()\n",
    "time.sleep(8)\n",
    "driver.find_element_by_xpath('//*[@title=\"Ver o cambiar las columnas y filtros de esta solicitud\"]').click()\n",
    "time.sleep(2)\n",
    "driver.find_element_by_xpath('//*[@title=\"Mostrar y editar vistas de resultados\"]').click()\n",
    "time.sleep(20)\n",
    "driver.find_element_by_id(\"idAnswersCompoundViewToolbar_export\").click()\n",
    "time.sleep(2)\n",
    "driver.find_element_by_name(\"exportData\").click()\n",
    "driver.find_element_by_name(\"csv\").click()\n",
    "\n",
    "#Funcion que espera que termine de descargar el archivo para continuar\n",
    "waitUntilDownloadCompleted(600)\n",
    "\n",
    "time.sleep(4)\n",
    "\n",
    "driver.find_element_by_name(\"OK\").click()\n",
    "\n",
    "time.sleep(2)\n",
    "\n",
    "driver.find_element_by_id(\"logout\").click()\n",
    "\n",
    "\n",
    "driver.quit()\n",
    "\n",
    "print(\"Descarga Terminada\")\n",
    "\n"
   ]
  },
  {
   "cell_type": "code",
   "execution_count": null,
   "metadata": {},
   "outputs": [],
   "source": []
  },
  {
   "cell_type": "code",
   "execution_count": null,
   "metadata": {},
   "outputs": [],
   "source": []
  },
  {
   "cell_type": "markdown",
   "metadata": {},
   "source": []
  }
 ],
 "metadata": {
  "kernelspec": {
   "display_name": "Python 3",
   "language": "python",
   "name": "python3"
  },
  "language_info": {
   "codemirror_mode": {
    "name": "ipython",
    "version": 3
   },
   "file_extension": ".py",
   "mimetype": "text/x-python",
   "name": "python",
   "nbconvert_exporter": "python",
   "pygments_lexer": "ipython3",
   "version": "3.7.6"
  }
 },
 "nbformat": 4,
 "nbformat_minor": 4
}
